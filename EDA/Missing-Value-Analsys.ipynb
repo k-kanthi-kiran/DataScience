{
 "cells": [
  {
   "cell_type": "code",
   "execution_count": 1,
   "id": "339b0ede",
   "metadata": {},
   "outputs": [],
   "source": [
    "import numpy as np\n",
    "import pandas as pd\n",
    "import matplotlib.pyplot as plt\n",
    "import seaborn as sns\n",
    "from sklearn.preprocessing import PowerTransformer"
   ]
  },
  {
   "cell_type": "markdown",
   "id": "ba500244",
   "metadata": {},
   "source": [
    "********Very important in EDA******\n",
    "- Missing value analsys is very important in data analysis.\n",
    "- Its quite natural that dataset has missing values.\n",
    "- There are so many techniques are there\n",
    "  - mean\n",
    "  - median\n",
    "  - mode\n",
    "  - bfill (BEfore filling)\n",
    "  - ffill (Front filling)\n",
    "  - pad\n",
    "  - random values\n",
    "  - you can compare column values and you can impute. \n",
    "  - KNN imputer\n"
   ]
  },
  {
   "cell_type": "code",
   "execution_count": 2,
   "id": "488a059e",
   "metadata": {},
   "outputs": [
    {
     "data": {
      "text/html": [
       "<div>\n",
       "<style scoped>\n",
       "    .dataframe tbody tr th:only-of-type {\n",
       "        vertical-align: middle;\n",
       "    }\n",
       "\n",
       "    .dataframe tbody tr th {\n",
       "        vertical-align: top;\n",
       "    }\n",
       "\n",
       "    .dataframe thead th {\n",
       "        text-align: right;\n",
       "    }\n",
       "</style>\n",
       "<table border=\"1\" class=\"dataframe\">\n",
       "  <thead>\n",
       "    <tr style=\"text-align: right;\">\n",
       "      <th></th>\n",
       "      <th>Names</th>\n",
       "      <th>Ages</th>\n",
       "      <th>City</th>\n",
       "    </tr>\n",
       "  </thead>\n",
       "  <tbody>\n",
       "    <tr>\n",
       "      <th>0</th>\n",
       "      <td>Ramesh</td>\n",
       "      <td>30.0</td>\n",
       "      <td>NaN</td>\n",
       "    </tr>\n",
       "    <tr>\n",
       "      <th>1</th>\n",
       "      <td>Suresh</td>\n",
       "      <td>31.0</td>\n",
       "      <td>Hyd</td>\n",
       "    </tr>\n",
       "    <tr>\n",
       "      <th>2</th>\n",
       "      <td>Mahesh</td>\n",
       "      <td>NaN</td>\n",
       "      <td>Pune</td>\n",
       "    </tr>\n",
       "    <tr>\n",
       "      <th>3</th>\n",
       "      <td>NaN</td>\n",
       "      <td>44.0</td>\n",
       "      <td>Chennai</td>\n",
       "    </tr>\n",
       "  </tbody>\n",
       "</table>\n",
       "</div>"
      ],
      "text/plain": [
       "    Names  Ages     City\n",
       "0  Ramesh  30.0      NaN\n",
       "1  Suresh  31.0      Hyd\n",
       "2  Mahesh   NaN     Pune\n",
       "3     NaN  44.0  Chennai"
      ]
     },
     "execution_count": 2,
     "metadata": {},
     "output_type": "execute_result"
    }
   ],
   "source": [
    "dict1={'Names':['Ramesh','Suresh','Mahesh',np.nan],\n",
    "       'Ages':[30,31,np.nan,44],\n",
    "        'City':[np.nan,'Hyd','Pune','Chennai']}\n",
    "d1 = pd.DataFrame(dict1)\n",
    "d1"
   ]
  },
  {
   "cell_type": "code",
   "execution_count": 3,
   "id": "2af09dd6",
   "metadata": {},
   "outputs": [
    {
     "data": {
      "text/plain": [
       "Names    1\n",
       "Ages     1\n",
       "City     1\n",
       "dtype: int64"
      ]
     },
     "execution_count": 3,
     "metadata": {},
     "output_type": "execute_result"
    }
   ],
   "source": [
    "# Can either give d1.isnull() or d1.isna\n",
    "d1.isna()\n",
    "#To know the count in each field of dataframe \n",
    "d1.isna().sum()"
   ]
  },
  {
   "cell_type": "code",
   "execution_count": 4,
   "id": "f788eead",
   "metadata": {},
   "outputs": [
    {
     "data": {
      "text/html": [
       "<div>\n",
       "<style scoped>\n",
       "    .dataframe tbody tr th:only-of-type {\n",
       "        vertical-align: middle;\n",
       "    }\n",
       "\n",
       "    .dataframe tbody tr th {\n",
       "        vertical-align: top;\n",
       "    }\n",
       "\n",
       "    .dataframe thead th {\n",
       "        text-align: right;\n",
       "    }\n",
       "</style>\n",
       "<table border=\"1\" class=\"dataframe\">\n",
       "  <thead>\n",
       "    <tr style=\"text-align: right;\">\n",
       "      <th></th>\n",
       "      <th>Names</th>\n",
       "      <th>Ages</th>\n",
       "      <th>City</th>\n",
       "    </tr>\n",
       "  </thead>\n",
       "  <tbody>\n",
       "    <tr>\n",
       "      <th>0</th>\n",
       "      <td>False</td>\n",
       "      <td>False</td>\n",
       "      <td>False</td>\n",
       "    </tr>\n",
       "    <tr>\n",
       "      <th>1</th>\n",
       "      <td>False</td>\n",
       "      <td>False</td>\n",
       "      <td>False</td>\n",
       "    </tr>\n",
       "    <tr>\n",
       "      <th>2</th>\n",
       "      <td>False</td>\n",
       "      <td>False</td>\n",
       "      <td>False</td>\n",
       "    </tr>\n",
       "    <tr>\n",
       "      <th>3</th>\n",
       "      <td>False</td>\n",
       "      <td>False</td>\n",
       "      <td>False</td>\n",
       "    </tr>\n",
       "  </tbody>\n",
       "</table>\n",
       "</div>"
      ],
      "text/plain": [
       "   Names   Ages   City\n",
       "0  False  False  False\n",
       "1  False  False  False\n",
       "2  False  False  False\n",
       "3  False  False  False"
      ]
     },
     "execution_count": 4,
     "metadata": {},
     "output_type": "execute_result"
    }
   ],
   "source": [
    "dict1={'Names':['Ramesh','Suresh','Mahesh','Null'],\n",
    "       'Ages':[30,31,'Null',44],\n",
    "        'City':['Null','Hyd','Pune','Chennai']}\n",
    "d2 = pd.DataFrame(dict1)\n",
    "d2.isna()"
   ]
  },
  {
   "cell_type": "code",
   "execution_count": 5,
   "id": "baffa1ae",
   "metadata": {},
   "outputs": [
    {
     "data": {
      "text/html": [
       "<div>\n",
       "<style scoped>\n",
       "    .dataframe tbody tr th:only-of-type {\n",
       "        vertical-align: middle;\n",
       "    }\n",
       "\n",
       "    .dataframe tbody tr th {\n",
       "        vertical-align: top;\n",
       "    }\n",
       "\n",
       "    .dataframe thead th {\n",
       "        text-align: right;\n",
       "    }\n",
       "</style>\n",
       "<table border=\"1\" class=\"dataframe\">\n",
       "  <thead>\n",
       "    <tr style=\"text-align: right;\">\n",
       "      <th></th>\n",
       "      <th>Names</th>\n",
       "      <th>Ages</th>\n",
       "      <th>City</th>\n",
       "    </tr>\n",
       "  </thead>\n",
       "  <tbody>\n",
       "    <tr>\n",
       "      <th>0</th>\n",
       "      <td>False</td>\n",
       "      <td>False</td>\n",
       "      <td>True</td>\n",
       "    </tr>\n",
       "    <tr>\n",
       "      <th>1</th>\n",
       "      <td>False</td>\n",
       "      <td>False</td>\n",
       "      <td>False</td>\n",
       "    </tr>\n",
       "    <tr>\n",
       "      <th>2</th>\n",
       "      <td>False</td>\n",
       "      <td>True</td>\n",
       "      <td>False</td>\n",
       "    </tr>\n",
       "    <tr>\n",
       "      <th>3</th>\n",
       "      <td>True</td>\n",
       "      <td>False</td>\n",
       "      <td>False</td>\n",
       "    </tr>\n",
       "  </tbody>\n",
       "</table>\n",
       "</div>"
      ],
      "text/plain": [
       "   Names   Ages   City\n",
       "0  False  False   True\n",
       "1  False  False  False\n",
       "2  False   True  False\n",
       "3   True  False  False"
      ]
     },
     "execution_count": 5,
     "metadata": {},
     "output_type": "execute_result"
    }
   ],
   "source": [
    "dict1={'Names':['Ramesh','Suresh','Mahesh',None],\n",
    "       'Ages':[30,31,None,44],\n",
    "        'City':[None,'Hyd','Pune','Chennai']}\n",
    "d2 = pd.DataFrame(dict1)\n",
    "d2.isnull()"
   ]
  },
  {
   "cell_type": "markdown",
   "id": "11437593",
   "metadata": {},
   "source": [
    "Values are not present,empty box is there ==== Null value\n",
    "- np.nan \n",
    "- None is working\n",
    "- Some times when you read the csv if you have missing values it shows as Null\n",
    "- isnull() is the best technique"
   ]
  },
  {
   "cell_type": "markdown",
   "id": "e695d5d0",
   "metadata": {},
   "source": [
    "#Method 1:\n",
    "Random Filling\n",
    "\n",
    "Not a good way to fill missing values."
   ]
  },
  {
   "cell_type": "code",
   "execution_count": 6,
   "id": "4acab3dc",
   "metadata": {},
   "outputs": [
    {
     "data": {
      "text/html": [
       "<div>\n",
       "<style scoped>\n",
       "    .dataframe tbody tr th:only-of-type {\n",
       "        vertical-align: middle;\n",
       "    }\n",
       "\n",
       "    .dataframe tbody tr th {\n",
       "        vertical-align: top;\n",
       "    }\n",
       "\n",
       "    .dataframe thead th {\n",
       "        text-align: right;\n",
       "    }\n",
       "</style>\n",
       "<table border=\"1\" class=\"dataframe\">\n",
       "  <thead>\n",
       "    <tr style=\"text-align: right;\">\n",
       "      <th></th>\n",
       "      <th>Names</th>\n",
       "      <th>Ages</th>\n",
       "      <th>City</th>\n",
       "    </tr>\n",
       "  </thead>\n",
       "  <tbody>\n",
       "    <tr>\n",
       "      <th>0</th>\n",
       "      <td>Ramesh</td>\n",
       "      <td>30.0</td>\n",
       "      <td>40</td>\n",
       "    </tr>\n",
       "    <tr>\n",
       "      <th>1</th>\n",
       "      <td>Suresh</td>\n",
       "      <td>31.0</td>\n",
       "      <td>Hyd</td>\n",
       "    </tr>\n",
       "    <tr>\n",
       "      <th>2</th>\n",
       "      <td>Mahesh</td>\n",
       "      <td>40.0</td>\n",
       "      <td>Pune</td>\n",
       "    </tr>\n",
       "    <tr>\n",
       "      <th>3</th>\n",
       "      <td>40</td>\n",
       "      <td>44.0</td>\n",
       "      <td>Chennai</td>\n",
       "    </tr>\n",
       "  </tbody>\n",
       "</table>\n",
       "</div>"
      ],
      "text/plain": [
       "    Names  Ages     City\n",
       "0  Ramesh  30.0       40\n",
       "1  Suresh  31.0      Hyd\n",
       "2  Mahesh  40.0     Pune\n",
       "3      40  44.0  Chennai"
      ]
     },
     "execution_count": 6,
     "metadata": {},
     "output_type": "execute_result"
    }
   ],
   "source": [
    "dict1={'Names':['Ramesh','Suresh','Mahesh',np.nan],\n",
    "       'Ages':[30,31,np.nan,44],\n",
    "        'City':[np.nan,'Hyd','Pune','Chennai']}\n",
    "d1 = pd.DataFrame(dict1)\n",
    "d1.fillna(40,inplace=True)\n",
    "d1"
   ]
  },
  {
   "cell_type": "markdown",
   "id": "c2745016",
   "metadata": {},
   "source": [
    "$Method2:$\n",
    "** Fill the random values based on column \n"
   ]
  },
  {
   "cell_type": "code",
   "execution_count": 7,
   "id": "fc01bff9",
   "metadata": {},
   "outputs": [
    {
     "data": {
      "text/html": [
       "<div>\n",
       "<style scoped>\n",
       "    .dataframe tbody tr th:only-of-type {\n",
       "        vertical-align: middle;\n",
       "    }\n",
       "\n",
       "    .dataframe tbody tr th {\n",
       "        vertical-align: top;\n",
       "    }\n",
       "\n",
       "    .dataframe thead th {\n",
       "        text-align: right;\n",
       "    }\n",
       "</style>\n",
       "<table border=\"1\" class=\"dataframe\">\n",
       "  <thead>\n",
       "    <tr style=\"text-align: right;\">\n",
       "      <th></th>\n",
       "      <th>Names</th>\n",
       "      <th>Ages</th>\n",
       "      <th>City</th>\n",
       "    </tr>\n",
       "  </thead>\n",
       "  <tbody>\n",
       "    <tr>\n",
       "      <th>0</th>\n",
       "      <td>Ramesh</td>\n",
       "      <td>30.0</td>\n",
       "      <td>NaN</td>\n",
       "    </tr>\n",
       "    <tr>\n",
       "      <th>1</th>\n",
       "      <td>Suresh</td>\n",
       "      <td>31.0</td>\n",
       "      <td>Hyd</td>\n",
       "    </tr>\n",
       "    <tr>\n",
       "      <th>2</th>\n",
       "      <td>Mahesh</td>\n",
       "      <td>40.0</td>\n",
       "      <td>Pune</td>\n",
       "    </tr>\n",
       "    <tr>\n",
       "      <th>3</th>\n",
       "      <td>NaN</td>\n",
       "      <td>44.0</td>\n",
       "      <td>Chennai</td>\n",
       "    </tr>\n",
       "  </tbody>\n",
       "</table>\n",
       "</div>"
      ],
      "text/plain": [
       "    Names  Ages     City\n",
       "0  Ramesh  30.0      NaN\n",
       "1  Suresh  31.0      Hyd\n",
       "2  Mahesh  40.0     Pune\n",
       "3     NaN  44.0  Chennai"
      ]
     },
     "execution_count": 7,
     "metadata": {},
     "output_type": "execute_result"
    }
   ],
   "source": [
    "dict1={'Names':['Ramesh','Suresh','Mahesh',np.nan],\n",
    "       'Ages':[30,31,np.nan,44],\n",
    "        'City':[np.nan,'Hyd','Pune','Chennai']}\n",
    "d1 = pd.DataFrame(dict1)\n",
    "d1['Ages'].fillna(40,inplace=True) \n",
    "d1"
   ]
  },
  {
   "cell_type": "markdown",
   "id": "a0d81d3f",
   "metadata": {},
   "source": [
    "$Method3:$ \n",
    "    - Mean\n",
    "    - Median\n",
    "    - Mode\n",
    "    \n",
    "    \n",
    "- Median does not affect by outliers\n",
    "- Mean effects by outliers\n",
    "- If you have data is there \n",
    "  - First check the outliers by using simple box plot\n",
    "  - You can check using outlier function \n",
    "  - If you feel outliers are there then fill missing values with median     "
   ]
  },
  {
   "cell_type": "code",
   "execution_count": 8,
   "id": "4af3a52e",
   "metadata": {},
   "outputs": [
    {
     "data": {
      "text/html": [
       "<div>\n",
       "<style scoped>\n",
       "    .dataframe tbody tr th:only-of-type {\n",
       "        vertical-align: middle;\n",
       "    }\n",
       "\n",
       "    .dataframe tbody tr th {\n",
       "        vertical-align: top;\n",
       "    }\n",
       "\n",
       "    .dataframe thead th {\n",
       "        text-align: right;\n",
       "    }\n",
       "</style>\n",
       "<table border=\"1\" class=\"dataframe\">\n",
       "  <thead>\n",
       "    <tr style=\"text-align: right;\">\n",
       "      <th></th>\n",
       "      <th>Names</th>\n",
       "      <th>Ages</th>\n",
       "      <th>City</th>\n",
       "    </tr>\n",
       "  </thead>\n",
       "  <tbody>\n",
       "    <tr>\n",
       "      <th>0</th>\n",
       "      <td>Ramesh</td>\n",
       "      <td>30.0</td>\n",
       "      <td>NaN</td>\n",
       "    </tr>\n",
       "    <tr>\n",
       "      <th>1</th>\n",
       "      <td>Suresh</td>\n",
       "      <td>31.0</td>\n",
       "      <td>Hyd</td>\n",
       "    </tr>\n",
       "    <tr>\n",
       "      <th>2</th>\n",
       "      <td>Mahesh</td>\n",
       "      <td>35.0</td>\n",
       "      <td>Pune</td>\n",
       "    </tr>\n",
       "    <tr>\n",
       "      <th>3</th>\n",
       "      <td>NaN</td>\n",
       "      <td>44.0</td>\n",
       "      <td>Chennai</td>\n",
       "    </tr>\n",
       "  </tbody>\n",
       "</table>\n",
       "</div>"
      ],
      "text/plain": [
       "    Names  Ages     City\n",
       "0  Ramesh  30.0      NaN\n",
       "1  Suresh  31.0      Hyd\n",
       "2  Mahesh  35.0     Pune\n",
       "3     NaN  44.0  Chennai"
      ]
     },
     "execution_count": 8,
     "metadata": {},
     "output_type": "execute_result"
    }
   ],
   "source": [
    "\n",
    "#This is for replacing column with  mean \n",
    "dict1={'Names':['Ramesh','Suresh','Mahesh',np.nan],\n",
    "       'Ages':[30,31,np.nan,44],\n",
    "        'City':[np.nan,'Hyd','Pune','Chennai']}\n",
    "d1 = pd.DataFrame(dict1)\n",
    "\n",
    "age_mean=d1['Ages'].mean()\n",
    "d1['Ages'].fillna(age_mean,inplace=True)\n",
    "d1\n",
    "\n",
    "\n",
    "  "
   ]
  },
  {
   "cell_type": "code",
   "execution_count": 9,
   "id": "6dc20597",
   "metadata": {},
   "outputs": [
    {
     "data": {
      "text/html": [
       "<div>\n",
       "<style scoped>\n",
       "    .dataframe tbody tr th:only-of-type {\n",
       "        vertical-align: middle;\n",
       "    }\n",
       "\n",
       "    .dataframe tbody tr th {\n",
       "        vertical-align: top;\n",
       "    }\n",
       "\n",
       "    .dataframe thead th {\n",
       "        text-align: right;\n",
       "    }\n",
       "</style>\n",
       "<table border=\"1\" class=\"dataframe\">\n",
       "  <thead>\n",
       "    <tr style=\"text-align: right;\">\n",
       "      <th></th>\n",
       "      <th>Names</th>\n",
       "      <th>Ages</th>\n",
       "      <th>City</th>\n",
       "    </tr>\n",
       "  </thead>\n",
       "  <tbody>\n",
       "    <tr>\n",
       "      <th>0</th>\n",
       "      <td>Ramesh</td>\n",
       "      <td>30.0</td>\n",
       "      <td>NaN</td>\n",
       "    </tr>\n",
       "    <tr>\n",
       "      <th>1</th>\n",
       "      <td>Suresh</td>\n",
       "      <td>31.0</td>\n",
       "      <td>Hyd</td>\n",
       "    </tr>\n",
       "    <tr>\n",
       "      <th>2</th>\n",
       "      <td>Mahesh</td>\n",
       "      <td>31.0</td>\n",
       "      <td>Pune</td>\n",
       "    </tr>\n",
       "    <tr>\n",
       "      <th>3</th>\n",
       "      <td>NaN</td>\n",
       "      <td>44.0</td>\n",
       "      <td>Chennai</td>\n",
       "    </tr>\n",
       "  </tbody>\n",
       "</table>\n",
       "</div>"
      ],
      "text/plain": [
       "    Names  Ages     City\n",
       "0  Ramesh  30.0      NaN\n",
       "1  Suresh  31.0      Hyd\n",
       "2  Mahesh  31.0     Pune\n",
       "3     NaN  44.0  Chennai"
      ]
     },
     "execution_count": 9,
     "metadata": {},
     "output_type": "execute_result"
    }
   ],
   "source": [
    "#This is for replacing column with  median \n",
    "dict1={'Names':['Ramesh','Suresh','Mahesh',np.nan],\n",
    "       'Ages':[30,31,np.nan,44],\n",
    "        'City':[np.nan,'Hyd','Pune','Chennai']}\n",
    "d1 = pd.DataFrame(dict1)\n",
    "\n",
    "age_median=d1['Ages'].median()\n",
    "d1['Ages'].fillna(age_median,inplace=True)\n",
    "d1"
   ]
  },
  {
   "cell_type": "markdown",
   "id": "079659da",
   "metadata": {},
   "source": [
    "**Method4:**\n",
    "- pad\n",
    "- bfill\n",
    "- ffill\n",
    "- backfill"
   ]
  },
  {
   "cell_type": "code",
   "execution_count": 10,
   "id": "a23a9cf4",
   "metadata": {},
   "outputs": [
    {
     "data": {
      "text/html": [
       "<div>\n",
       "<style scoped>\n",
       "    .dataframe tbody tr th:only-of-type {\n",
       "        vertical-align: middle;\n",
       "    }\n",
       "\n",
       "    .dataframe tbody tr th {\n",
       "        vertical-align: top;\n",
       "    }\n",
       "\n",
       "    .dataframe thead th {\n",
       "        text-align: right;\n",
       "    }\n",
       "</style>\n",
       "<table border=\"1\" class=\"dataframe\">\n",
       "  <thead>\n",
       "    <tr style=\"text-align: right;\">\n",
       "      <th></th>\n",
       "      <th>Names</th>\n",
       "      <th>Ages</th>\n",
       "      <th>City</th>\n",
       "    </tr>\n",
       "  </thead>\n",
       "  <tbody>\n",
       "    <tr>\n",
       "      <th>0</th>\n",
       "      <td>Ramesh</td>\n",
       "      <td>30.0</td>\n",
       "      <td>30.0</td>\n",
       "    </tr>\n",
       "    <tr>\n",
       "      <th>1</th>\n",
       "      <td>Suresh</td>\n",
       "      <td>31.0</td>\n",
       "      <td>Hyd</td>\n",
       "    </tr>\n",
       "    <tr>\n",
       "      <th>2</th>\n",
       "      <td>Mahesh</td>\n",
       "      <td>Mahesh</td>\n",
       "      <td>Pune</td>\n",
       "    </tr>\n",
       "    <tr>\n",
       "      <th>3</th>\n",
       "      <td>NaN</td>\n",
       "      <td>44.0</td>\n",
       "      <td>Chennai</td>\n",
       "    </tr>\n",
       "  </tbody>\n",
       "</table>\n",
       "</div>"
      ],
      "text/plain": [
       "    Names    Ages     City\n",
       "0  Ramesh    30.0     30.0\n",
       "1  Suresh    31.0      Hyd\n",
       "2  Mahesh  Mahesh     Pune\n",
       "3     NaN    44.0  Chennai"
      ]
     },
     "execution_count": 10,
     "metadata": {},
     "output_type": "execute_result"
    }
   ],
   "source": [
    "# In this example if you see , this method pad refers to the previous values of columnto fill \n",
    "# For the column axis = 1\n",
    "dict1={'Names':['Ramesh','Suresh','Mahesh',np.nan],\n",
    "       'Ages':[30,31,np.nan,44],\n",
    "        'City':[np.nan,'Hyd','Pune','Chennai']}\n",
    "d1 = pd.DataFrame(dict1)\n",
    "d1=d1.fillna(method='pad',axis=1)\n",
    "d1  "
   ]
  },
  {
   "cell_type": "code",
   "execution_count": 11,
   "id": "717e48e8",
   "metadata": {},
   "outputs": [
    {
     "data": {
      "text/html": [
       "<div>\n",
       "<style scoped>\n",
       "    .dataframe tbody tr th:only-of-type {\n",
       "        vertical-align: middle;\n",
       "    }\n",
       "\n",
       "    .dataframe tbody tr th {\n",
       "        vertical-align: top;\n",
       "    }\n",
       "\n",
       "    .dataframe thead th {\n",
       "        text-align: right;\n",
       "    }\n",
       "</style>\n",
       "<table border=\"1\" class=\"dataframe\">\n",
       "  <thead>\n",
       "    <tr style=\"text-align: right;\">\n",
       "      <th></th>\n",
       "      <th>Names</th>\n",
       "      <th>Ages</th>\n",
       "      <th>City</th>\n",
       "    </tr>\n",
       "  </thead>\n",
       "  <tbody>\n",
       "    <tr>\n",
       "      <th>0</th>\n",
       "      <td>Ramesh</td>\n",
       "      <td>30.0</td>\n",
       "      <td>Hyd</td>\n",
       "    </tr>\n",
       "    <tr>\n",
       "      <th>1</th>\n",
       "      <td>Suresh</td>\n",
       "      <td>31.0</td>\n",
       "      <td>Hyd</td>\n",
       "    </tr>\n",
       "    <tr>\n",
       "      <th>2</th>\n",
       "      <td>Mahesh</td>\n",
       "      <td>44.0</td>\n",
       "      <td>Pune</td>\n",
       "    </tr>\n",
       "    <tr>\n",
       "      <th>3</th>\n",
       "      <td>NaN</td>\n",
       "      <td>44.0</td>\n",
       "      <td>Chennai</td>\n",
       "    </tr>\n",
       "  </tbody>\n",
       "</table>\n",
       "</div>"
      ],
      "text/plain": [
       "    Names  Ages     City\n",
       "0  Ramesh  30.0      Hyd\n",
       "1  Suresh  31.0      Hyd\n",
       "2  Mahesh  44.0     Pune\n",
       "3     NaN  44.0  Chennai"
      ]
     },
     "execution_count": 11,
     "metadata": {},
     "output_type": "execute_result"
    }
   ],
   "source": [
    "#bfill\n",
    "dict1={'Names':['Ramesh','Suresh','Mahesh',np.nan],\n",
    "       'Ages':[30,31,np.nan,44],\n",
    "        'City':[np.nan,'Hyd','Pune','Chennai']}\n",
    "d1 = pd.DataFrame(dict1)\n",
    "d1=d1.fillna(method='bfill',axis=0)\n",
    "d1  "
   ]
  },
  {
   "cell_type": "code",
   "execution_count": 12,
   "id": "7f252f3a",
   "metadata": {},
   "outputs": [
    {
     "data": {
      "text/html": [
       "<div>\n",
       "<style scoped>\n",
       "    .dataframe tbody tr th:only-of-type {\n",
       "        vertical-align: middle;\n",
       "    }\n",
       "\n",
       "    .dataframe tbody tr th {\n",
       "        vertical-align: top;\n",
       "    }\n",
       "\n",
       "    .dataframe thead th {\n",
       "        text-align: right;\n",
       "    }\n",
       "</style>\n",
       "<table border=\"1\" class=\"dataframe\">\n",
       "  <thead>\n",
       "    <tr style=\"text-align: right;\">\n",
       "      <th></th>\n",
       "      <th>Names</th>\n",
       "      <th>Ages</th>\n",
       "      <th>City</th>\n",
       "    </tr>\n",
       "  </thead>\n",
       "  <tbody>\n",
       "    <tr>\n",
       "      <th>0</th>\n",
       "      <td>Ramesh</td>\n",
       "      <td>30.0</td>\n",
       "      <td>NaN</td>\n",
       "    </tr>\n",
       "    <tr>\n",
       "      <th>1</th>\n",
       "      <td>Suresh</td>\n",
       "      <td>31.0</td>\n",
       "      <td>Hyd</td>\n",
       "    </tr>\n",
       "    <tr>\n",
       "      <th>2</th>\n",
       "      <td>Mahesh</td>\n",
       "      <td>31.0</td>\n",
       "      <td>Pune</td>\n",
       "    </tr>\n",
       "    <tr>\n",
       "      <th>3</th>\n",
       "      <td>Mahesh</td>\n",
       "      <td>44.0</td>\n",
       "      <td>Chennai</td>\n",
       "    </tr>\n",
       "  </tbody>\n",
       "</table>\n",
       "</div>"
      ],
      "text/plain": [
       "    Names  Ages     City\n",
       "0  Ramesh  30.0      NaN\n",
       "1  Suresh  31.0      Hyd\n",
       "2  Mahesh  31.0     Pune\n",
       "3  Mahesh  44.0  Chennai"
      ]
     },
     "execution_count": 12,
     "metadata": {},
     "output_type": "execute_result"
    }
   ],
   "source": [
    "#ffill\n",
    "dict1={'Names':['Ramesh','Suresh','Mahesh',np.nan],\n",
    "       'Ages':[30,31,np.nan,44],\n",
    "        'City':[np.nan,'Hyd','Pune','Chennai']}\n",
    "d1 = pd.DataFrame(dict1)\n",
    "d1=d1.fillna(method='ffill',axis=0)\n",
    "d1  "
   ]
  },
  {
   "cell_type": "code",
   "execution_count": 13,
   "id": "d1aa68c3",
   "metadata": {},
   "outputs": [
    {
     "data": {
      "text/html": [
       "<div>\n",
       "<style scoped>\n",
       "    .dataframe tbody tr th:only-of-type {\n",
       "        vertical-align: middle;\n",
       "    }\n",
       "\n",
       "    .dataframe tbody tr th {\n",
       "        vertical-align: top;\n",
       "    }\n",
       "\n",
       "    .dataframe thead th {\n",
       "        text-align: right;\n",
       "    }\n",
       "</style>\n",
       "<table border=\"1\" class=\"dataframe\">\n",
       "  <thead>\n",
       "    <tr style=\"text-align: right;\">\n",
       "      <th></th>\n",
       "      <th>Names</th>\n",
       "      <th>Ages</th>\n",
       "      <th>City</th>\n",
       "    </tr>\n",
       "  </thead>\n",
       "  <tbody>\n",
       "    <tr>\n",
       "      <th>0</th>\n",
       "      <td>Ramesh</td>\n",
       "      <td>30.0</td>\n",
       "      <td>Hyd</td>\n",
       "    </tr>\n",
       "    <tr>\n",
       "      <th>1</th>\n",
       "      <td>Suresh</td>\n",
       "      <td>31.0</td>\n",
       "      <td>Hyd</td>\n",
       "    </tr>\n",
       "    <tr>\n",
       "      <th>2</th>\n",
       "      <td>Mahesh</td>\n",
       "      <td>44.0</td>\n",
       "      <td>Pune</td>\n",
       "    </tr>\n",
       "    <tr>\n",
       "      <th>3</th>\n",
       "      <td>NaN</td>\n",
       "      <td>44.0</td>\n",
       "      <td>Chennai</td>\n",
       "    </tr>\n",
       "  </tbody>\n",
       "</table>\n",
       "</div>"
      ],
      "text/plain": [
       "    Names  Ages     City\n",
       "0  Ramesh  30.0      Hyd\n",
       "1  Suresh  31.0      Hyd\n",
       "2  Mahesh  44.0     Pune\n",
       "3     NaN  44.0  Chennai"
      ]
     },
     "execution_count": 13,
     "metadata": {},
     "output_type": "execute_result"
    }
   ],
   "source": [
    "#backfill\n",
    "dict1={'Names':['Ramesh','Suresh','Mahesh',np.nan],\n",
    "       'Ages':[30,31,np.nan,44],\n",
    "        'City':[np.nan,'Hyd','Pune','Chennai']}\n",
    "d1 = pd.DataFrame(dict1)\n",
    "d1=d1.fillna(method='backfill',axis=0)\n",
    "d1  "
   ]
  },
  {
   "cell_type": "markdown",
   "id": "a6e76a1a",
   "metadata": {},
   "source": [
    "# Categorical Columns\n",
    "- Categorical columns does not have any meaning mainly in dataframes.\n",
    "- If it is sometext  or sentence you can find the meaning of the sentence\n",
    "- For example  Name column is there review column is there \n",
    "- Because of only Name itself you can't judge the output\n",
    "- But a review can impact the output\n",
    "- Generally if any naive names kind of columns we can fill in any way but if some columns impacting output , then we need \n",
    "- to fill those columns with an idean about how that column is related with other columns."
   ]
  },
  {
   "cell_type": "markdown",
   "id": "5bc565d7",
   "metadata": {},
   "source": [
    "$Method-5$\n",
    "**KNN imputer**\n",
    "KNN = k -nearest neighbours\n",
    "- It is one of ML model to find  the nearest solution based on distance metrics\n",
    "- Instead of taking all the value of mean\n",
    "- Why can't we take the neighbours mean of the observation\n",
    "- Here we choose the neighbours after which the mean calculation of those neighbours  and fill with the mean value.\n",
    "- KNNImputer takes a two dimension array list not a single dimension array list.\n",
    "**Package Name**:  sklearn.impute\n",
    "\n",
    "**Method Name**: KNNImputer\n",
    "\n",
    "- Test with Numerical Column\n",
    "- Test with Categorical+Numerical  Column\n",
    "- \n"
   ]
  },
  {
   "cell_type": "code",
   "execution_count": 14,
   "id": "669c5d98",
   "metadata": {},
   "outputs": [],
   "source": [
    "from sklearn.impute import KNNImputer"
   ]
  },
  {
   "cell_type": "code",
   "execution_count": 15,
   "id": "a159fd99",
   "metadata": {},
   "outputs": [
    {
     "name": "stdout",
     "output_type": "stream",
     "text": [
      "Before Transformation: [[nan  7.  4.  5.]\n",
      " [ 2.  8.  4.  5.]\n",
      " [ 3.  7.  4.  6.]\n",
      " [ 1. nan nan  5.]]\n",
      "After Transformation: [[1. 7. 4. 5.]\n",
      " [2. 8. 4. 5.]\n",
      " [3. 7. 4. 6.]\n",
      " [1. 7. 4. 5.]]\n"
     ]
    }
   ],
   "source": [
    "#Testing with Numerical Data\n",
    "two_dimension_arry = np.array([[np.nan,7,4,5],[2,8,4,5],[3,7,4,6],[1,np.nan,np.nan,5]])\n",
    "print(\"Before Transformation:\",two_dimension_arry)\n",
    "from sklearn.impute import KNNImputer\n",
    "imputer = KNNImputer(n_neighbors=1)\n",
    "imputed_data=imputer.fit_transform(two_dimension_arry)\n",
    "print(\"After Transformation:\",imputed_data)\n"
   ]
  },
  {
   "cell_type": "code",
   "execution_count": 19,
   "id": "3fa86235",
   "metadata": {},
   "outputs": [
    {
     "name": "stdout",
     "output_type": "stream",
     "text": [
      "Before Transformation: [[nan  7.  4.  5.]\n",
      " [34.  8.  4.  5.]\n",
      " [nan  7. nan  6.]\n",
      " [45. nan nan  5.]]\n",
      "After Transformation: [[45.  7.  4.  5.]\n",
      " [34.  8.  4.  5.]\n",
      " [34.  7.  4.  6.]\n",
      " [45.  7.  4.  5.]]\n"
     ]
    }
   ],
   "source": [
    "#Testing with Categorical+ Numerical Column\n",
    "two_dimension_arry = np.array([[np.nan,7,4,5],[34,8,4,5],[np.nan,7,np.nan,6],[45,np.nan,np.nan,5]])\n",
    "print(\"Before Transformation:\",two_dimension_arry)\n",
    "from sklearn.impute import KNNImputer\n",
    "imputer = KNNImputer(n_neighbors=1)\n",
    "imputed_data=imputer.fit_transform(two_dimension_arry)\n",
    "print(\"After Transformation:\",imputed_data)\n"
   ]
  },
  {
   "cell_type": "code",
   "execution_count": null,
   "id": "a0b35fca",
   "metadata": {},
   "outputs": [],
   "source": [
    "#Testing with Categorical+ Numerical Column\n",
    "two_dimension_arry = np.array([[np.nan,7,4,5],['Ramesh',8,4,5],['Suresh',7,4,6],['Chandresh',np.nan,np.nan,5]])\n",
    "print(\"Before Transformation:\",two_dimension_arry)\n",
    "from sklearn.impute import KNNImputer\n",
    "imputer = KNNImputer(n_neighbors=1)\n",
    "imputed_data=imputer.fit_transform(two_dimension_arry)\n",
    "print(\"After Transformation:\",imputed_data)\n"
   ]
  },
  {
   "cell_type": "code",
   "execution_count": null,
   "id": "5dc3da4b",
   "metadata": {},
   "outputs": [],
   "source": []
  }
 ],
 "metadata": {
  "kernelspec": {
   "display_name": "Python 3 (ipykernel)",
   "language": "python",
   "name": "python3"
  },
  "language_info": {
   "codemirror_mode": {
    "name": "ipython",
    "version": 3
   },
   "file_extension": ".py",
   "mimetype": "text/x-python",
   "name": "python",
   "nbconvert_exporter": "python",
   "pygments_lexer": "ipython3",
   "version": "3.11.5"
  }
 },
 "nbformat": 4,
 "nbformat_minor": 5
}
